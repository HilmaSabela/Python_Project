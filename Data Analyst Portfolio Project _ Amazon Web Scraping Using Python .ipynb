{
 "cells": [
  {
   "cell_type": "markdown",
   "id": "7eb508ed",
   "metadata": {},
   "source": [
    "# For Education Only, Because Amazon using Captcha to prevent web scrapping"
   ]
  },
  {
   "cell_type": "code",
   "execution_count": 2,
   "id": "34cfc1ec",
   "metadata": {},
   "outputs": [],
   "source": [
    "# import libraries\n",
    "\n",
    "from bs4 import BeautifulSoup\n",
    "import requests\n",
    "import time\n",
    "import datetime\n",
    "\n",
    "# not really important \n",
    "import smtplib"
   ]
  },
  {
   "cell_type": "code",
   "execution_count": 22,
   "id": "f8b39197",
   "metadata": {},
   "outputs": [
    {
     "ename": "AttributeError",
     "evalue": "'NoneType' object has no attribute 'get_text'",
     "output_type": "error",
     "traceback": [
      "\u001b[1;31m---------------------------------------------------------------------------\u001b[0m",
      "\u001b[1;31mAttributeError\u001b[0m                            Traceback (most recent call last)",
      "Cell \u001b[1;32mIn[22], line 18\u001b[0m\n\u001b[0;32m     14\u001b[0m soup2 \u001b[38;5;241m=\u001b[39m BeautifulSoup(soup1\u001b[38;5;241m.\u001b[39mprettify(), \u001b[38;5;124m'\u001b[39m\u001b[38;5;124mhtml.parser\u001b[39m\u001b[38;5;124m'\u001b[39m)\n\u001b[0;32m     15\u001b[0m \u001b[38;5;66;03m#print(soup2)\u001b[39;00m\n\u001b[0;32m     16\u001b[0m \n\u001b[0;32m     17\u001b[0m \u001b[38;5;66;03m# getting title\u001b[39;00m\n\u001b[1;32m---> 18\u001b[0m title \u001b[38;5;241m=\u001b[39m soup2\u001b[38;5;241m.\u001b[39mfind(\u001b[38;5;28mid\u001b[39m \u001b[38;5;241m=\u001b[39m \u001b[38;5;124m'\u001b[39m\u001b[38;5;124mproductTitle\u001b[39m\u001b[38;5;124m'\u001b[39m)\u001b[38;5;241m.\u001b[39mget_text()\n\u001b[0;32m     20\u001b[0m price \u001b[38;5;241m=\u001b[39m soup2\u001b[38;5;241m.\u001b[39mfind(\u001b[38;5;28mid\u001b[39m \u001b[38;5;241m=\u001b[39m \u001b[38;5;124m'\u001b[39m\u001b[38;5;124mpriceblock_ourprice\u001b[39m\u001b[38;5;124m'\u001b[39m)\u001b[38;5;241m.\u001b[39mget_text()\n\u001b[0;32m     21\u001b[0m \u001b[38;5;28mprint\u001b[39m(title)\n",
      "\u001b[1;31mAttributeError\u001b[0m: 'NoneType' object has no attribute 'get_text'"
     ]
    }
   ],
   "source": [
    "### Connect to the website ###\n",
    "\n",
    "url = 'https://www.amazon.com/Funny-Data-Systems-Business-Analyst/dp/B07FNW9FGJ/ref=sr_1_7?keywords=data+analyst+tshirt&qid=1699496987&sr=8-7'\n",
    "\n",
    "# ID komputer kita => dari (https://httpbin.org/get)\n",
    "headers = {\"User-Agent\": \"Mozilla/5.0 (Windows NT 10.0; Win64; x64) AppleWebKit/537.36 (KHTML, like Gecko) Chrome/118.0.0.0 Safari/537.36\", \"Accept-Encoding\": \"gzip, deflate, br\", \"Accept\": \"text/html,application/xhtml+xml,application/xml;q=0.9,image/avif,image/webp,image/apng,*/*;q=0.8,application/signed-exchange;v=b3;q=0.7\", \"DNT\":\"1\", \"Connection\":\"close\", \"Upgrade-Insecure-Requests\":\"1\"}\n",
    "\n",
    "# start getting the data\n",
    "page = requests.get(url, headers = headers, timeout = 5)\n",
    "\n",
    "soup1 = BeautifulSoup(page.content, 'html.parser')\n",
    "\n",
    "# prettify => biar code format lebih rapi \n",
    "soup2 = BeautifulSoup(soup1.prettify(), 'html.parser')\n",
    "#print(soup2)\n",
    "\n",
    "# getting title\n",
    "title = soup2.find(id = 'productTitle').get_text()\n",
    "\n",
    "price = soup2.find(id = 'priceblock_ourprice').get_text()\n",
    "print(title)\n",
    "print(price)\n",
    "\n",
    "# Hasilnya : (di tengah)\n",
    "##                            Funny Got Data MIS Data Systems Business Analyst T-Shirt\n",
    "##                            $16.99"
   ]
  },
  {
   "cell_type": "code",
   "execution_count": 21,
   "id": "7eb8aeb2",
   "metadata": {},
   "outputs": [
    {
     "ename": "NameError",
     "evalue": "name 'price' is not defined",
     "output_type": "error",
     "traceback": [
      "\u001b[1;31m---------------------------------------------------------------------------\u001b[0m",
      "\u001b[1;31mNameError\u001b[0m                                 Traceback (most recent call last)",
      "Cell \u001b[1;32mIn[21], line 3\u001b[0m\n\u001b[0;32m      1\u001b[0m \u001b[38;5;66;03m# (Incase) Ketika ingin menghilangkan junk(kelebihan spasi, atau lain-lain) = text pada price kelebihan spasi\u001b[39;00m\n\u001b[0;32m      2\u001b[0m \u001b[38;5;66;03m# [1:] => untuk menuliskan text index pertama - terakhir\u001b[39;00m\n\u001b[1;32m----> 3\u001b[0m price \u001b[38;5;241m=\u001b[39m price\u001b[38;5;241m.\u001b[39mstrip()[\u001b[38;5;241m1\u001b[39m:]\n",
      "\u001b[1;31mNameError\u001b[0m: name 'price' is not defined"
     ]
    }
   ],
   "source": [
    "# (Incase) Ketika ingin menghilangkan junk(kelebihan spasi, atau lain-lain) = text pada price kelebihan spasi\n",
    "# [1:] => untuk menuliskan text index pertama - terakhir, dan disimpan di 'price'\n",
    "price = price.strip()[1:]\n",
    "title = title.strip()\n",
    "\n",
    "print(title)\n",
    "print(price)\n",
    "\n",
    "# Hasilnya :\n",
    "## Funny Got Data MIS Data Systems Business Analyst T-Shirt\n",
    "## 16.99"
   ]
  },
  {
   "cell_type": "code",
   "execution_count": 25,
   "id": "50286480",
   "metadata": {},
   "outputs": [
    {
     "name": "stdout",
     "output_type": "stream",
     "text": [
      "2023-11-09\n"
     ]
    }
   ],
   "source": [
    "### Data tentang tanggal ###\n",
    "\n",
    "import datetime\n",
    "\n",
    "today = datetime.date.today()\n",
    "print(today)"
   ]
  },
  {
   "cell_type": "code",
   "execution_count": null,
   "id": "3f3c89f8",
   "metadata": {},
   "outputs": [],
   "source": [
    "### Create a csv and insert it into csv, and then create a process to append more data into the csv  ###\n",
    "\n",
    "# import csv . Di csv ada header dan data (mungkin seperti nama kolom dan value)\n",
    "import csv\n",
    "\n",
    "# Perhatikan datatype nya, data price adalah string\n",
    "header = ['Title', 'Price', 'Date']\n",
    "data = [title, price, today]\n",
    "\n",
    "# Penamaan file CSV , w = write, newline = ketika insert new data, it doesn't have any spaces in between each csv\n",
    "with open('AmazonWebScraperDataSer.csv', 'w', newline='', encoding='UTD8') as f:\n",
    "    # To insert the data \n",
    "    writer = csv.writer(f) # csv library\n",
    "    writer.writerow(header)\n",
    "    writer.writerow(data)\n",
    "# Jika sudah di 'run', file csv akan ada di explorer (location di folder User - as default)\n"
   ]
  },
  {
   "cell_type": "code",
   "execution_count": null,
   "id": "e2b15de5",
   "metadata": {},
   "outputs": [],
   "source": [
    "### Buat ngecek file CSV langsung di sini, tanpa buka filenya ###\n",
    "import pandas as pd\n",
    "\n",
    "df = pd.read_csv(r'lokasi file di file explorer')\n",
    "df"
   ]
  },
  {
   "cell_type": "code",
   "execution_count": null,
   "id": "771356af",
   "metadata": {},
   "outputs": [],
   "source": [
    "### Appending data to the CSV ###\n",
    "\n",
    "with open('AmazonWebScraperDataSer.csv', 'a+', newline='', encoding='UTD8') as f: # a+ buat menggabungkan (append) data\n",
    "    # To insert the data \n",
    "    writer = csv.writer() # csv library\n",
    "    writer.writerow(data)\n",
    "    \n",
    "# Ketika di run manual, data akan ditambahkan/digabungkan di file yang sama"
   ]
  },
  {
   "cell_type": "code",
   "execution_count": null,
   "id": "b6e0daf5",
   "metadata": {},
   "outputs": [],
   "source": [
    "# BAGAIMANA CARA BUAT DATA DIATAS BERTAMBAH SECARA OTOMATIS, SEHINGGA PERUBAHAN TANGGAL DAN HARGA BISA DILIHAT?\n",
    "## Buat FUNCTION : A function is a block of code which only runs when it is called\n",
    "\n",
    "def check_price():\n",
    "    url = 'https://www.amazon.com/Funny-Data-Systems-Business-Analyst/dp/B07FNW9FGJ/ref=sr_1_7?keywords=data+analyst+tshirt&qid=1699496987&sr=8-7'\n",
    "    headers = {\"User-Agent\": \"Mozilla/5.0 (Windows NT 10.0; Win64; x64) AppleWebKit/537.36 (KHTML, like Gecko) Chrome/118.0.0.0 Safari/537.36\", \"Accept-Encoding\": \"gzip, deflate, br\", \"Accept\": \"text/html,application/xhtml+xml,application/xml;q=0.9,image/avif,image/webp,image/apng,*/*;q=0.8,application/signed-exchange;v=b3;q=0.7\", \"DNT\":\"1\", \"Connection\":\"close\", \"Upgrade-Insecure-Requests\":\"1\"}\n",
    "    page = requests.get(url, headers = headers, timeout = 5)\n",
    "    soup1 = BeautifulSoup(page.content, 'html.parser')\n",
    "    soup2 = BeautifulSoup(soup1.prettify(), 'html.parser')\n",
    "    title = soup2.find(id = 'productTitle').get_text()\n",
    "    price = soup2.find(id = 'priceblock_ourprice').get_text()\n",
    "    \n",
    "    price = price.strip()[1:]\n",
    "    title = title.strip()\n",
    "\n",
    "    import datetime\n",
    "    today = datetime.date.today()\n",
    "\n",
    "    import csv\n",
    "    header = ['Title', 'Price', 'Date']\n",
    "    data = [title, price, today]\n",
    "    \n",
    "    with open('AmazonWebScraperDataSer.csv', 'a+', newline='', encoding='UTD8') as f: # a+ buat menggabungkan (append) data\n",
    "    # To insert the data \n",
    "        writer = csv.writer() # csv library\n",
    "        writer.writerow(data)\n",
    "        \n",
    "    # TAMBAHAN : Ketika harga tertentu, bisa kirim email. \n",
    "    if (price < 14):\n",
    "        send_email() # function\n",
    "    \n",
    "\n",
    "# Di run"
   ]
  },
  {
   "cell_type": "code",
   "execution_count": null,
   "id": "e993739e",
   "metadata": {},
   "outputs": [],
   "source": [
    "### Set the TIMER => import time ###\n",
    "while(True):\n",
    "    check_price() # Nama function\n",
    "    time.sleep(5) # Setting timer, timer dalam detik, contohnya : 5 seconds, misal 24 jam = 86400 detik\n",
    "    \n",
    "## Code akan terus berjalan selama komputer nggak mati"
   ]
  },
  {
   "cell_type": "code",
   "execution_count": null,
   "id": "9d152e29",
   "metadata": {},
   "outputs": [],
   "source": [
    "import pandas as pd\n",
    "\n",
    "df = pd.read_csv(r'lokasi file di file explorer')\n",
    "df"
   ]
  },
  {
   "cell_type": "code",
   "execution_count": null,
   "id": "61b299cf",
   "metadata": {},
   "outputs": [],
   "source": [
    "### FUNCTION SEND EMAIL ###\n",
    "\n",
    "def send_email():\n",
    "    server = smtplib.SMTP_SSL('smtp.gmail.com', 465)\n",
    "    server.ehlo()\n",
    "    #server.starttls()\n",
    "    server.ehlo()\n",
    "    server.login('sabelahilma@gmail.com','xxxxxxxxxxxxxxx')\n",
    "    \n",
    "    subject = 'The tshirt you want is below $15! Now is your chance to by!'\n",
    "    body = 'Hilma, this is the moment you have been waiting for. Now is your chance to pick up the shirts of your dream. Do not mess it up!'\n",
    "    \n",
    "    msg = f\"Subject: {subject}\\n\\n{body}\"\n",
    "    server.sendmail(\n",
    "        'sabelahilma@gmail.com', msg\n",
    "    )"
   ]
  }
 ],
 "metadata": {
  "kernelspec": {
   "display_name": "Python 3 (ipykernel)",
   "language": "python",
   "name": "python3"
  },
  "language_info": {
   "codemirror_mode": {
    "name": "ipython",
    "version": 3
   },
   "file_extension": ".py",
   "mimetype": "text/x-python",
   "name": "python",
   "nbconvert_exporter": "python",
   "pygments_lexer": "ipython3",
   "version": "3.11.5"
  }
 },
 "nbformat": 4,
 "nbformat_minor": 5
}
